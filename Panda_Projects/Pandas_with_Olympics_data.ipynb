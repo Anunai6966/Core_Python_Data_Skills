{
 "cells": [
  {
   "cell_type": "markdown",
   "id": "f317a16d-10b8-4b52-a9f1-677f7d39347a",
   "metadata": {},
   "source": [
    "# Pandas on Olympics data 🥇"
   ]
  },
  {
   "cell_type": "code",
   "execution_count": 2,
   "id": "bdc2f846-33e5-4cae-8a0e-cb315af7f216",
   "metadata": {},
   "outputs": [],
   "source": [
    "import pandas as pd"
   ]
  },
  {
   "cell_type": "code",
   "execution_count": 4,
   "id": "4962b40b-9e7e-4519-a03e-8897c96c639d",
   "metadata": {},
   "outputs": [],
   "source": [
    "results = pd.read_csv('results.csv')\n",
    "bios = pd.read_csv('bios.csv')\n",
    "olympics_data = pd.read_excel('olympics-data.xlsx', sheet_name=\"results\")"
   ]
  },
  {
   "cell_type": "markdown",
   "id": "809fd5be-f8d1-4951-9872-9e9dbd20393a",
   "metadata": {},
   "source": [
    "## Filtering Data"
   ]
  },
  {
   "cell_type": "code",
   "execution_count": null,
   "id": "51d63746-d2ca-4910-85b2-8810785ad540",
   "metadata": {},
   "outputs": [],
   "source": []
  }
 ],
 "metadata": {
  "kernelspec": {
   "display_name": "Python [conda env:base] *",
   "language": "python",
   "name": "conda-base-py"
  },
  "language_info": {
   "codemirror_mode": {
    "name": "ipython",
    "version": 3
   },
   "file_extension": ".py",
   "mimetype": "text/x-python",
   "name": "python",
   "nbconvert_exporter": "python",
   "pygments_lexer": "ipython3",
   "version": "3.13.5"
  }
 },
 "nbformat": 4,
 "nbformat_minor": 5
}
